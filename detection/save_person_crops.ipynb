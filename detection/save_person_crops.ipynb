{
 "cells": [
  {
   "cell_type": "markdown",
   "metadata": {},
   "source": [
    "# Person Detection and Saving Person Crops"
   ]
  },
  {
   "cell_type": "code",
   "execution_count": null,
   "metadata": {},
   "outputs": [],
   "source": [
    "## Install packages if not installed\n",
    "#!pip install torch torchvision ultralytics"
   ]
  },
  {
   "cell_type": "code",
   "execution_count": null,
   "metadata": {},
   "outputs": [],
   "source": [
    "import cv2\n",
    "import numpy as np\n",
    "import os\n",
    "from PIL import Image\n",
    "import glob\n",
    "from tqdm import tqdm\n",
    "import math\n",
    "\n",
    "from ultralytics import YOLO\n",
    "import torch\n",
    "\n",
    "# set device\n",
    "device = torch.device('cuda') if torch.cuda.is_available() else 'cpu'"
   ]
  },
  {
   "cell_type": "code",
   "execution_count": null,
   "metadata": {},
   "outputs": [],
   "source": [
    "MODEL_NAME = \"yolov8l.pt\" ## will be automatically downloaded\n",
    "\n",
    "model = YOLO(MODEL_NAME)\n",
    "model.to(device)"
   ]
  },
  {
   "cell_type": "markdown",
   "metadata": {},
   "source": [
    "## Detect persons in an image"
   ]
  },
  {
   "cell_type": "code",
   "execution_count": null,
   "metadata": {},
   "outputs": [],
   "source": [
    "MIN_CONF = 0.7 # minimum confidence for detection\n",
    "MIN_WIDTH = 80 # minimum width of person crop to save\n",
    "MIN_HEIGHT = 80 # minimum height of person crop to save\n",
    "SAVE_QUALITY = 90 # quality of save crops, reduce for large images to save disk space\n",
    "SAVE_DIR = \"output\"\n",
    "FILE_PATH = \"assets/example1.jpg\"\n",
    "\n",
    "file_name = os.path.basename(FILE_PATH)\n",
    "\n",
    "image_cv = cv2.imread(FILE_PATH)\n",
    "results = model.predict(image_cv, conf=MIN_CONF, verbose=False)\n",
    "\n",
    "for result in results:\n",
    "    for i, cls in enumerate(result.boxes.cls):\n",
    "        if int(cls) == 0:\n",
    "            xywh = result.boxes.xywh[i]\n",
    "            width_p =  math.floor(xywh[2])\n",
    "            height_p = math.floor(xywh[3])\n",
    "\n",
    "            if width_p > MIN_WIDTH and height_p > MIN_HEIGHT:\n",
    "                xyxy = result.boxes.xyxy[i]\n",
    "                conf = result.boxes.conf[i]\n",
    "                x1, y1, x2, y2 = math.floor(xyxy[0]), math.floor(xyxy[1]), math.floor(xyxy[2]), math.floor(xyxy[3])\n",
    "                \n",
    "                person_crop_cv = image_cv[y1:y2, x1:x2]\n",
    "\n",
    "                crop_save_name = file_name[:-4] + '_' \\\n",
    "                                    + str(i) + \\\n",
    "                                    '_conf_' + str(int(conf*100)) + \\\n",
    "                                    '_bbox_' + str(x1) + '_' + str(y1) + '_' +  str(x2) + '_' + str(y2) + \\\n",
    "                                    '_size_' + str(width_p) + 'x' + str(height_p) + '.jpg'\n",
    "                cv2.imwrite(os.path.join(\"output\", crop_save_name), person_crop_cv, [cv2.IMWRITE_JPEG_QUALITY, SAVE_QUALITY])"
   ]
  }
 ],
 "metadata": {
  "kernelspec": {
   "display_name": "lang",
   "language": "python",
   "name": "python3"
  },
  "language_info": {
   "codemirror_mode": {
    "name": "ipython",
    "version": 3
   },
   "file_extension": ".py",
   "mimetype": "text/x-python",
   "name": "python",
   "nbconvert_exporter": "python",
   "pygments_lexer": "ipython3",
   "version": "3.10.12"
  }
 },
 "nbformat": 4,
 "nbformat_minor": 2
}
